{
 "cells": [
  {
   "cell_type": "markdown",
   "metadata": {},
   "source": [
    "## NOTE: \n",
    "### To run this code, your Jupyter-notebook must be using Python3.8 or newer releases"
   ]
  },
  {
   "cell_type": "markdown",
   "metadata": {},
   "source": [
    "# Prerequisites for calculation"
   ]
  },
  {
   "cell_type": "markdown",
   "metadata": {},
   "source": [
    "Before I begin solving the tasks presented in the exercises I will define a set of constants to be used throughout this document. The meaning of the individual constants are briefly described in the appropriate comments."
   ]
  },
  {
   "cell_type": "code",
   "execution_count": 1,
   "metadata": {},
   "outputs": [],
   "source": [
    "import numpy as np\n",
    "\n",
    "k_b = 1.38e-23                  #The boltzmann constant\n",
    "T = 293                         #Example temperature (in Kelvin)\n",
    "beta = 1 / (k_b * T)            #The inverse-temperature-constant for the example-temp\n",
    "\n",
    "box_k = 600*k_b*T               #Spring-constant for box-walls\n",
    "\n",
    "hardcore_diameter = 0.05        #Particle-diameter for hardcore interaction\n",
    "hardcore_pot = 100000*k_b*T       #Particle-potential for hardcore interaction\n",
    "\n",
    "N = 1000                        #Example amount of particles\n",
    "\n",
    "epsilon = 1                     #Lennard-jones potential-constant\n",
    "a = 0.1                         #Lennard-jones distance-constant\n"
   ]
  },
  {
   "cell_type": "markdown",
   "metadata": {},
   "source": [
    "# Abstract box-system definitions\n",
    "In order to quickly switch between using various inter-particle-potentials along with box-potentials for the particles in the $L\\times L$ box, I will define a stateFunctions-class. Instances of this class will contain information about the potentials to be used, along with appropriate functions-definitions of these.  \n",
    "  \n",
    "This section is split into two code-boxes, where the first one was written as the .pyi file corresponding to the second one. The first code-block gives an overview of all functions defined in the second one, but is strictly speaking not neccesary.  \n",
    "  \n",
    "In this section I implement functions that calculate the energy and pressure for a given microstate. Each particle that lies outside the box would classically be influenced as if it were in a spring-system with spring-constant $k=box_k$. In a single dimension, the pressure-contribution from a single particle a distance $d$ outside the box would be calculated as $k\\cdot d / A$, where $A$ is some relevant area. In our scenario, it is not neccesarily easy to define how the pressure should be calculated, especially outside the box-corners. I have chosen to sum up pressure-contribution from the x-direction and y-direction as if they were independent, and chosen $A=4\\cdot L$, the one-dimensional area of the box. This allows calculating some pressure for a given microstate (though in reality pressure is a macroscopic quantity).  \n",
    "  \n",
    "Furthermore, the following section implements a series of energy-methods. The inter-particle energy-methods are Lennard-Jones, Hardcore, and No-interaction, all of which are coupled with the box-spring-system-energy as defined in the exercise-text. The energy-methods take in a system-state (a set of particle-positions) and yield a floating-point energy-value.  \n",
    "  \n",
    "All methods are compiled with jit to allow for fast execution."
   ]
  },
  {
   "cell_type": "code",
   "execution_count": 2,
   "metadata": {},
   "outputs": [],
   "source": [
    "from typing import Callable\n",
    "import numpy as np\n",
    "from enum import Enum\n",
    "\n",
    "\n",
    "class ENERGY(Enum):\n",
    "    BOX_ENERGY              :int = 1\n",
    "    HARDCORE_AND_BOX_ENERGY :int = 2\n",
    "    LJ_AND_BOX_ENERGY       :int = 3\n",
    "\n",
    "\n",
    "class stateFunctions:\n",
    "    box_k: float\n",
    "\n",
    "    pressure: Callable[[np.ndarray, float], float]\n",
    "    hardcore_energy: Callable[[np.ndarray, float], float]\n",
    "    box_energy: Callable[[np.ndarray, float], float]\n",
    "    box_and_hardcore_energy: Callable[[np.ndarray, float], float]\n",
    "    box_and_lj_energy: Callable[[np.ndarray, float], float]\n",
    "    single_particle_pressure: Callable[[np.ndarray, float, int], float]\n",
    "    single_particle_box_energy: Callable[[np.ndarray, float, int], float]\n",
    "    single_particle_hardcore_energy: Callable[[np.ndarray, float, int], float]\n",
    "    single_particle_box_and_hardcore_energy: Callable[[np.ndarray, float, int], float]\n",
    "    single_particle_box_and_lj_energy: Callable[[np.ndarray, float, int], float]\n",
    "\n",
    "    def __init__(self, L: float, box_k: float, **kwargs):\n",
    "        \"\"\"\n",
    "        Creates state-functions object with parameter L and box_k\n",
    "        :param L: float\n",
    "        :param box_k: float\n",
    "        \"\"\"\n",
    "        ...\n",
    "\n",
    "    def compile(self):\n",
    "        \"\"\"\n",
    "        Recompile the energy- and pressure- methods of stateFunctions\n",
    "        :return: None\n",
    "        \"\"\"\n",
    "        ...\n",
    "\n",
    "    def set_energy_type(self, energy_type: ENERGY):\n",
    "        ...\n",
    "\n",
    "    def get_energy(self) -> Callable[[np.ndarray, float], float]:\n",
    "        ...\n",
    "\n",
    "    def get_single_particle_energy(self) -> Callable[[np.ndarray, float, int], float]:\n",
    "        ...\n",
    "\n",
    "    def get_pressure(self) -> Callable[[np.ndarray, float], float]:\n",
    "        ...\n",
    "\n",
    "    def get_single_particle_pressure(self) -> Callable[[np.ndarray, float, int], float]:\n",
    "        ...\n"
   ]
  },
  {
   "cell_type": "code",
   "execution_count": 3,
   "metadata": {},
   "outputs": [],
   "source": [
    "from __future__ import annotations\n",
    "from typing import List, Tuple, Callable, Dict, NamedTuple\n",
    "import numpy as np\n",
    "from numba import njit\n",
    "from enum import Enum\n",
    "\n",
    "\n",
    "class ENERGY(Enum):\n",
    "    BOX_ENERGY              :int = 1\n",
    "    HARDCORE_AND_BOX_ENERGY :int = 2\n",
    "    LJ_AND_BOX_ENERGY       :int = 3\n",
    "\n",
    "\n",
    "class stateFunctions:\n",
    "    box_k: float\n",
    "\n",
    "    pressure: Callable[[np.ndarray, float], float]\n",
    "    hardcore_energy: Callable[[np.ndarray, float], float]\n",
    "    box_energy: Callable[[np.ndarray, float], float]\n",
    "    box_and_hardcore_energy: Callable[[np.ndarray, float], float]\n",
    "    box_and_lj_energy: Callable[[np.ndarray, float], float]\n",
    "    single_particle_pressure: Callable[[np.ndarray, float, int], float]\n",
    "    single_particle_box_energy: Callable[[np.ndarray, float, int], float]\n",
    "    single_particle_hardcore_energy: Callable[[np.ndarray, float, int], float]\n",
    "    single_particle_box_and_hardcore_energy: Callable[[np.ndarray, float, int], float]\n",
    "    single_particle_box_and_lj_energy: Callable[[np.ndarray, float, int], float]\n",
    "\n",
    "    def __init__(self, box_k: float, **kwargs):\n",
    "        self.box_k = box_k\n",
    "        self.compile()\n",
    "        self.energy_type = kwargs.get(\"energy_type\", ENERGY.HARDCORE_AND_BOX_ENERGY)\n",
    "\n",
    "    def set_energy_type(self, energy_type: ENERGY):\n",
    "        self.energy_type = energy_type\n",
    "\n",
    "    def get_energy(self) -> Callable[[np.ndarray], float]:\n",
    "        return {ENERGY.BOX_ENERGY: self.box_energy,\n",
    "                ENERGY.HARDCORE_AND_BOX_ENERGY: self.box_and_hardcore_energy,\n",
    "                ENERGY.LJ_AND_BOX_ENERGY: self.box_and_lj_energy}[self.energy_type]\n",
    "\n",
    "    def get_pressure(self) -> Callable[[np.ndarray], float]:\n",
    "        return self.pressure\n",
    "\n",
    "    def get_single_particle_energy(self) -> Callable[[np.ndarray, int], float]:\n",
    "        return {ENERGY.BOX_ENERGY: self.single_particle_box_energy,\n",
    "                ENERGY.HARDCORE_AND_BOX_ENERGY: self.single_particle_box_and_hardcore_energy,\n",
    "                ENERGY.LJ_AND_BOX_ENERGY: self.single_particle_box_and_lj_energy}[self.energy_type]\n",
    "\n",
    "    def get_single_particle_pressure(self) -> Callable[[np.ndarray, int], float]:\n",
    "        return self.single_particle_pressure\n",
    "\n",
    "    def compile(self):\n",
    "        box_k = self.box_k\n",
    "\n",
    "        @njit()\n",
    "        def pressure(state: np.ndarray, L: float) -> float:\n",
    "            pressure_contrib = np.sum(np.where(state < 0, -state, 0)) + \\\n",
    "                               np.sum(np.where(state > L, state - L, 0))\n",
    "            pressure_contrib *= box_k / L / 4\n",
    "            return pressure_contrib\n",
    "\n",
    "        @njit()\n",
    "        def single_particle_pressure(state:np.ndarray, L: float, i: int):\n",
    "            return pressure(state[i], L)\n",
    "\n",
    "        @njit()\n",
    "        def hardcore_energy(state: np.ndarray, L: float) -> float:\n",
    "            particle_amt = len(state)\n",
    "            energy_contrib = 0.0\n",
    "            for i in range(particle_amt):\n",
    "                for j in range(i+1, particle_amt):\n",
    "                    energy_contrib += hardcore_pot if np.linalg.norm(state[i] - state[j]) < hardcore_diameter else 0\n",
    "            return energy_contrib\n",
    "\n",
    "        @njit()\n",
    "        def LJ_energy(state: np.ndarray, L: float) -> float:\n",
    "            particle_amt = len(state)\n",
    "            energy_contrib = 0.0\n",
    "            for i in range(particle_amt):\n",
    "                for j in range(i+1, particle_amt):\n",
    "                    r = np.linalg.norm(state[i]-state[j])\n",
    "                    energy_contrib += epsilon*((a/r)**12 - 2*(a/r)**6)\n",
    "            return energy_contrib\n",
    "\n",
    "        @njit()\n",
    "        def single_particle_LJ_energy(state: np.ndarray, L: float, i: int) -> float:\n",
    "            energy_contrib = 0.0\n",
    "            particle_i = state[i]\n",
    "            for j in range(len(state)):\n",
    "                if j != i:\n",
    "                    r = np.linalg.norm(particle_i - state[j])\n",
    "                    energy_contrib += epsilon*((a/r)**12 - 2*(a/r)**6)\n",
    "            return energy_contrib\n",
    "\n",
    "        @njit()\n",
    "        def single_particle_hardcore_energy(state: np.ndarray, L: float, i: int) -> float:\n",
    "            energy_contrib = 0.0\n",
    "            particle_i = state[i]\n",
    "            for j in range(len(state)):\n",
    "                if j != i:\n",
    "                    energy_contrib += hardcore_pot if np.linalg.norm(particle_i - state[j]) < hardcore_diameter else 0\n",
    "            return energy_contrib\n",
    "\n",
    "        @njit()\n",
    "        def box_energy(state: np.ndarray, L: float) -> float:\n",
    "            energy_contrib: float = 1 / 2 * box_k * np.sum(np.where(state < 0, state ** 2, 0)) \\\n",
    "                                    + 1 / 2 * box_k * np.sum(np.where(state > L, (state - L) ** 2, 0))\n",
    "            return energy_contrib\n",
    "\n",
    "        @njit()\n",
    "        def single_particle_box_energy(state: np.ndarray, L: float, i: int) -> float:\n",
    "            return box_energy(state[i], L)\n",
    "\n",
    "        @njit()\n",
    "        def box_and_hardcore_energy(state: np.ndarray, L: float) -> float:\n",
    "            return box_energy(state, L) + hardcore_energy(state, L)\n",
    "\n",
    "        @njit()\n",
    "        def single_particle_box_and_hardcore_energy(state: np.ndarray, L: float, i: int) -> float:\n",
    "            return single_particle_box_energy(state, L, i) + single_particle_hardcore_energy(state, L, i)\n",
    "\n",
    "        @njit()\n",
    "        def box_and_LJ_energy(state: np.ndarray, L: float):\n",
    "            return box_energy(state, L) + LJ_energy(state, L)\n",
    "\n",
    "        @njit()\n",
    "        def single_particle_box_and_LJ_energy(state: np.ndarray, L: float, i: int):\n",
    "            return single_particle_box_energy(state, L, i) + single_particle_LJ_energy(state, L, i)\n",
    "\n",
    "        self.pressure = pressure\n",
    "        self.hardcore_energy = hardcore_energy\n",
    "        self.box_energy = box_energy\n",
    "        self.box_and_hardcore_energy = box_and_hardcore_energy\n",
    "        self.box_and_lj_energy = box_and_LJ_energy\n",
    "        self.single_particle_pressure = single_particle_pressure\n",
    "        self.single_particle_box_energy = single_particle_box_energy\n",
    "        self.single_particle_hardcore_energy = single_particle_hardcore_energy\n",
    "        self.single_particle_box_and_hardcore_energy = single_particle_box_and_hardcore_energy\n",
    "        self.single_particle_box_and_lj_energy = single_particle_box_and_LJ_energy\n",
    "\n",
    "\n",
    "\n",
    "\n"
   ]
  },
  {
   "cell_type": "markdown",
   "metadata": {},
   "source": [
    "Now I will define the actual systems used in simulations. These 'systems' consist of a state, describing the positions of all its particles, along with a series of parameters specifying the behaviour of the system. One such parameter is the 'state-functions'-object the system will use to calculate energies for a given state. Furthermore, the system has a function named 'explore' which will propagate the system-state with the metropolis Monte-Carlo method in accordance with its parameters. Like before, I have split the definitions into a descriptive '.pyi'-code-block, and another code block that actually implements all the methods. "
   ]
  },
  {
   "cell_type": "code",
   "execution_count": 4,
   "metadata": {},
   "outputs": [],
   "source": [
    "class System:\n",
    "    state: np.ndarray\n",
    "    particle_amt: int\n",
    "    dimension: int\n",
    "    L: float\n",
    "    jump_scale: float\n",
    "\n",
    "    pressure: Callable[[np.ndarray], float]\n",
    "    energy: Callable[[np.ndarray], float]\n",
    "\n",
    "    def __init__(self, particle_amt: int, L: float, state_functions: stateFunctions, **kwargs): ...\n",
    "\n",
    "    def reset(self, L: float=None, recompile: bool=False):\n",
    "        ...\n",
    "\n",
    "    def explore(self, iterations: int, log_interval: int = 1):\n",
    "        \"\"\"\n",
    "        Jitted method of performing multiple goto_next-steps, moving a single, randomly selected\n",
    "        particle at a time\n",
    "        :param iterations: int; iterations to perform\n",
    "        :return:\n",
    "        \"\"\"\n",
    "        ..."
   ]
  },
  {
   "cell_type": "code",
   "execution_count": 5,
   "metadata": {},
   "outputs": [],
   "source": [
    "import numpy as np\n",
    "from numba import njit\n",
    "from typing import List, Tuple, Callable, Dict\n",
    "\n",
    "\n",
    "class System:\n",
    "    state: np.ndarray\n",
    "    particle_amt: int\n",
    "    dimension: int\n",
    "    L: float\n",
    "    jump_scale: float\n",
    "\n",
    "    pressure: Callable[[np.ndarray, float], float]\n",
    "    energy: Callable[[np.ndarray, float], float]\n",
    "\n",
    "    def __init__(self, particle_amt: int, L: float, state_functions: stateFunctions, temperature: float = T, **kwargs):\n",
    "        self.particle_amt = particle_amt\n",
    "        self.positional_dimension = 2           # 2D system\n",
    "        self.dimension = self.particle_amt*self.positional_dimension\n",
    "        self.L = L\n",
    "        self.state_functions = state_functions\n",
    "        self.jump_scale = kwargs.get(\"jump_scale\", 1)\n",
    "        self.T = temperature\n",
    "\n",
    "        self.logEnergy = kwargs.get(\"logEnergy\", True)\n",
    "        self.logPressure = kwargs.get(\"logPressure\", True)\n",
    "\n",
    "        self.compile()\n",
    "\n",
    "        # Generating initial random state\n",
    "        self.reset()\n",
    "\n",
    "    def reset(self, L: float=None, recompile: bool=False):\n",
    "        if L is not None:\n",
    "            self.L = L\n",
    "        self.state = np.random.random((self.particle_amt, self.positional_dimension)) * self.L\n",
    "        if recompile:\n",
    "            self.compile()\n",
    "\n",
    "    def compile(self):\n",
    "        jump_scale = self.jump_scale\n",
    "        energy = self.state_functions.get_energy()\n",
    "        pressure = self.state_functions.get_pressure()\n",
    "        single_energy = self.state_functions.get_single_particle_energy()\n",
    "        single_pressure = self.state_functions.get_single_particle_pressure()\n",
    "        T = self.T\n",
    "        pos_dim = self.positional_dimension\n",
    "        logEnergy = self.logEnergy\n",
    "        logPressure = self.logPressure\n",
    "        @njit()\n",
    "        def jitted_explore(initial_state: np.ndarray, L: float, iterations: int, log_interval=100) -> Tuple[np.ndarray, List[List[float]]]:\n",
    "            beta = 1.0 / (k_b * T)\n",
    "\n",
    "            def particle_choice(state):\n",
    "                i = np.random.randint(0, len(state))\n",
    "                return i\n",
    "\n",
    "            def jump():\n",
    "                stepped_length = np.random.uniform(-jump_scale, jump_scale, (pos_dim,))\n",
    "                return stepped_length\n",
    "\n",
    "            def goto_next(state, i):\n",
    "                single_step = jump()\n",
    "                current_energy = single_energy(state, L, i)\n",
    "                position_i_current = state[i] + 0\n",
    "                state[i] += single_step\n",
    "                next_energy = single_energy(state, L, i)\n",
    "                delta_energy = next_energy - current_energy\n",
    "                if not (delta_energy < 0 or np.random.random() < np.exp(-beta * delta_energy)) :\n",
    "                    state[i] = position_i_current\n",
    "                return state\n",
    "\n",
    "            pressures = [0.0][:0]\n",
    "            energies = [0.0][:0]\n",
    "\n",
    "            state = initial_state\n",
    "            for iter in range(iterations):\n",
    "                i = particle_choice(state)\n",
    "                state = goto_next(state, i)\n",
    "                if iter % log_interval == 0:\n",
    "                    if logPressure: pressures.append(pressure(state, L))\n",
    "                    if logEnergy: energies.append(energy(state, L))\n",
    "            return state, [pressures, energies]\n",
    "        self._explore = jitted_explore\n",
    "\n",
    "    def __len__(self):\n",
    "        return self.particle_amt\n",
    "\n",
    "    def __getitem__(self, index: int):\n",
    "        return self.state[index]\n",
    "\n",
    "    def explore(self, iterations: int, log_interval: int = 1):\n",
    "        state, values = self._explore(self.state, self.L, iterations, log_interval)\n",
    "        self.state = state\n",
    "        return dict(zip([\"pressure\", \"energy\"], values))\n"
   ]
  },
  {
   "cell_type": "markdown",
   "metadata": {},
   "source": [
    "All the exercises may now be solved in a short and concise way. \n",
    "  \n",
    "### Task a)\n",
    "For no particular reason I have chosen box-lengths $L$ in the interval $[0.1\\text{m}, 10\\text{m}]$ for testing the validity of the Ideal-Gas Law in an $L\\times L$ box with the Metropolis Monte Carlo method.  \n",
    "  \n",
    "The jump-scale variable (briefly mentioned in the exercise-text, although it differs from the one defined in code by a factor 2) is here set to $0.08$, meaning that a particle may be moved at most $0.08\\text{m}$ during Metropolis-Monte-Carlo iteration. There is no particular reason for choosing $0.08\\text{m}$, other than that it seems to allow for fairly fast propagation of the particles, at the same time as it doen't reject too many proposed steps (as the particles rarely end up far outside the box, where the Monte-Carlo method most definitely would reject propagation and the state would remain unchanged). Choosing step-length $0.08\\text{m}$ generates a fair amount of different microstates.  \n",
    "  \n",
    "Before I actually begin calculating pressures in the Monte-Carlo method, I will perform $500000$ iterations to allow the system to 'stabilize' (stabilize in a macroscopic sense). The system initiates by spreading the particles uniformly in the $L\\times L$ box, but one needs to allow a few particles to venture outside the box before one begins calculating pressures and energies. Otherwise, these values would likely be unrepresentatively low."
   ]
  },
  {
   "cell_type": "code",
   "execution_count": 6,
   "metadata": {},
   "outputs": [
    {
     "name": "stdout",
     "output_type": "stream",
     "text": [
      "^^^^^^^^^^^^^^^^^^^^\n",
      "********************"
     ]
    },
    {
     "name": "stderr",
     "output_type": "stream",
     "text": [
      "<ipython-input-6-84c41da6450f>:40: UserWarning: Matplotlib is currently using module://ipykernel.pylab.backend_inline, which is a non-GUI backend, so cannot show the figure.\n",
      "  fig.show()\n"
     ]
    },
    {
     "data": {
      "image/png": "[encoded data removed]",
      "text/plain": [
       "<Figure size 432x288 with 1 Axes>"
      ]
     },
     "metadata": {
      "needs_background": "light"
     },
     "output_type": "display_data"
    }
   ],
   "source": [
    "import matplotlib.pyplot as plt\n",
    "from matplotlib.axes import Axes\n",
    "from matplotlib.lines import Line2D\n",
    "\n",
    "lower_l_lim = -1     #10^-1 = min_l\n",
    "upper_l_lim = 1      #10^1 = max_l\n",
    "\n",
    "lengths_amount = 20\n",
    "\n",
    "particle_amt = 200\n",
    "\n",
    "stabilization_iterations = 10000  #Iterations used for allowing the system to stabilize\n",
    "averaging_iterations = 100000      #Iterations used for calculating an average\n",
    "\n",
    "fig, ax = plt.subplots(1,1)\n",
    "lengths = np.logspace(lower_l_lim, upper_l_lim, lengths_amount)\n",
    "pressures = []\n",
    "print(\"^\"*lengths_amount)\n",
    "state_fcns = stateFunctions(box_k, energy_type = ENERGY.BOX_ENERGY)\n",
    "sys = System(particle_amt, 1, state_fcns, jump_scale = 0.05, logEnergy=False)\n",
    "for length in lengths:\n",
    "    sys.reset(L=length)\n",
    "    sys.explore(stabilization_iterations, log_interval=1000)\n",
    "    \n",
    "    pressure_values = sys.explore(averaging_iterations, log_interval=100)[\"pressure\"] #Pressure is only logged every 1000 iterations \n",
    "                                                        #as it is unneccesary to calculate pressures for similar microstates\n",
    "    average_pressure = np.average(pressure_values)\n",
    "    pressures.append(average_pressure)\n",
    "    print(\"*\", end=\"\")\n",
    "ax.plot(lengths, pressures, label=\"simulation p\", color=\"r\")\n",
    "ideal_pressures = particle_amt * k_b * T / (lengths**2)\n",
    "\n",
    "ax.plot(lengths, ideal_pressures, label= \"ideal p\", color = \"b\", linestyle=\"--\")\n",
    "ax.set_yscale(\"log\")\n",
    "ax.set_xscale(\"log\")\n",
    "ax.legend()\n",
    "ax.set_xlabel(\"length [m]\")\n",
    "ax.set_ylabel(\"pressure [pa]\")\n",
    "\n",
    "fig.show()"
   ]
  },
  {
   "cell_type": "markdown",
   "metadata": {},
   "source": [
    "There seems to be good correspondence between our calculations and the ideal-gas-law. In order to demonstrate that the particles in fact move around (not as described by the laws of motion, but generating a set of microstates), I will construct a gif showing the particle-trails during the monte-carlo-iterations. In this case I will only render the simulation with $20$ particles, as including more would only clutter the plot."
   ]
  },
  {
   "cell_type": "code",
   "execution_count": 7,
   "metadata": {},
   "outputs": [
    {
     "name": "stderr",
     "output_type": "stream",
     "text": [
      "MovieWriter ffmpeg unavailable; using Pillow instead.\n"
     ]
    },
    {
     "name": "stdout",
     "output_type": "stream",
     "text": [
      "*************************************************************************************************************************************************************************************************************************************************************************************************************\n",
      "anim.gif may now be found in CWD\n"
     ]
    },
    {
     "data": {
      "image/png": "[encoded data removed]",
      "text/plain": [
       "<Figure size 1152x1152 with 1 Axes>"
      ]
     },
     "metadata": {
      "needs_background": "light"
     },
     "output_type": "display_data"
    }
   ],
   "source": [
    "from matplotlib.animation import FuncAnimation\n",
    "plot_amt = 20      #antall partikler\n",
    "\n",
    "anim_iters = 20   #Iterasjoner mellom hvert plot\n",
    "anim_frames = 300   #Antall frames\n",
    "\n",
    "L = 1\n",
    "\n",
    "if __name__ == \"__main__\":\n",
    "\n",
    "    #Plotting a single system\n",
    "\n",
    "    state_fcns = stateFunctions(box_k, energy_type=ENERGY.BOX_ENERGY)\n",
    "    sys = System(plot_amt, L, state_fcns, jump_scale=0.05, logEnergy=False)\n",
    "    fig, ax = plt.subplots(1,1, figsize=(16,16))\n",
    "    data_storage = [elem for x_data, y_data in sys.state for elem in ([x_data], [y_data])]   #yeehaw\n",
    "    curves:List[Line2D] = ax.plot(*data_storage)\n",
    "    ax.set_aspect(\"equal\")\n",
    "    ax.set_xlim([-0.2, 1.2])\n",
    "    ax.set_ylim([-0.2, 1.2])\n",
    "    ax.axvline(1, color=\"k\"); ax.axvline(0, color=\"k\")\n",
    "    ax.axhline(0, color=\"k\"), ax.axhline(1, color=\"k\")\n",
    "\n",
    "\n",
    "    def animate(*args):\n",
    "        pressure = sys.explore(anim_iters, log_interval=anim_iters)[\"pressure\"]\n",
    "        print(\"*\", end=\"\")\n",
    "        ax.set_title(f\"p={pressure[0]:.3g} pa\")\n",
    "        for enum, (x_data, y_data) in enumerate(sys.state):\n",
    "            data_storage[2*enum].append(x_data)\n",
    "            data_storage[2*enum+1].append(y_data)\n",
    "            data_storage[2*enum] = data_storage[2*enum][-10:]\n",
    "            data_storage[2*enum+1] = data_storage[2*enum+1][-10:]\n",
    "        for enum, line in enumerate(curves):\n",
    "            line.set_data((data_storage[2*enum], data_storage[2*enum + 1]))\n",
    "        return curves\n",
    "    anim = FuncAnimation(fig, animate, anim_frames)\n",
    "    anim.save(\"anim.gif\", fps=30)\n",
    "    print(\"\")\n",
    "    print(\"anim.gif may now be found in CWD\")\n",
    "    del fig, ax, anim\n",
    "    \n"
   ]
  },
  {
   "cell_type": "code",
   "execution_count": 8,
   "metadata": {},
   "outputs": [
    {
     "data": {
      "text/html": [
       "<img src=\"anim.gif\"/>"
      ],
      "text/plain": [
       "<IPython.core.display.Image object>"
      ]
     },
     "execution_count": 8,
     "metadata": {},
     "output_type": "execute_result"
    }
   ],
   "source": [
    "from IPython.display import Image\n",
    "Image(url=\"anim.gif\")"
   ]
  },
  {
   "cell_type": "markdown",
   "metadata": {},
   "source": [
    "It is evident that the particles move around sufficiently to generate several microstates.\n",
    "\n",
    "## Task b)\n",
    "The methods used here are largely the same as in $\\textbf{(a)}$"
   ]
  },
  {
   "cell_type": "code",
   "execution_count": 9,
   "metadata": {},
   "outputs": [
    {
     "name": "stdout",
     "output_type": "stream",
     "text": [
      "^^^^^^^^^^^^^^^^^^^^^^^^^^^^^^\n",
      "******************************"
     ]
    },
    {
     "name": "stderr",
     "output_type": "stream",
     "text": [
      "<ipython-input-9-9dd123400a26>:40: UserWarning: Matplotlib is currently using module://ipykernel.pylab.backend_inline, which is a non-GUI backend, so cannot show the figure.\n",
      "  fig.show()\n"
     ]
    },
    {
     "data": {
      "image/png": "[encoded data removed]",
      "text/plain": [
       "<Figure size 432x288 with 1 Axes>"
      ]
     },
     "metadata": {
      "needs_background": "light"
     },
     "output_type": "display_data"
    }
   ],
   "source": [
    "import matplotlib.pyplot as plt\n",
    "from matplotlib.axes import Axes\n",
    "from matplotlib.lines import Line2D\n",
    "\n",
    "particle_amt = 100\n",
    "\n",
    "stabilization_iterations = 5000  #Iterations used for allowing the system to stabilize\n",
    "averaging_iterations = 100000      #Iterations used for calculating an average\n",
    "lengths_amount = 30\n",
    "upper_l_lim = -0.5\n",
    "\n",
    "fig, ax = plt.subplots(1,1)\n",
    "lengths = np.logspace(lower_l_lim, upper_l_lim, lengths_amount)\n",
    "pressures = []\n",
    "print(\"^\"*lengths_amount)\n",
    "box_k = 100000*k_b*T\n",
    "state_fcns = stateFunctions(box_k, energy_type = ENERGY.HARDCORE_AND_BOX_ENERGY)\n",
    "sys = System(particle_amt, 1, state_fcns, jump_scale = 0.05, logEnergy=False)\n",
    "for length in lengths:\n",
    "    sys.reset(L=length)\n",
    "    sys.explore(stabilization_iterations, log_interval=1000)\n",
    "    \n",
    "    pressure_values = sys.explore(averaging_iterations, log_interval=3)[\"pressure\"] #Pressure is only logged every 3 iterations \n",
    "                                                        #as it is unneccesary to calculate pressures for similar microstates\n",
    "    average_pressure = np.average(pressure_values)\n",
    "    pressures.append(average_pressure)\n",
    "    print(\"*\", end=\"\")\n",
    "ax.plot(lengths, pressures, label=\"simulation p\", color=\"r\")\n",
    "vdw_pressures = particle_amt * k_b * T / (lengths**2-np.pi*hardcore_diameter**2/2*particle_amt)\n",
    "ideal_pressures = particle_amt * k_b * T / (lengths**2)\n",
    "\n",
    "ax.plot(lengths, ideal_pressures, label= \"ideal p\", color = \"b\", linestyle=\"--\")\n",
    "ax.plot(lengths, vdw_pressures, label=\"vdw p\", color=\"g\", linestyle=\"--\")\n",
    "ax.set_yscale(\"log\")\n",
    "ax.set_xscale(\"log\")\n",
    "ax.legend()\n",
    "ax.set_xlabel(\"length [m]\")\n",
    "ax.set_ylabel(\"pressure [pa]\")\n",
    "\n",
    "fig.show()"
   ]
  },
  {
   "cell_type": "markdown",
   "metadata": {},
   "source": [
    "As length of the box decreases, the simulation-pressure seems to approximate the calculated Van-Der-Walls pressure far better than the ideal-gas pressure, but this does not hold when the box-volumes approach the total volume of each particle. In this case, the simulation likely returns a somewhat low pressure due to the finite box-constant. In an 'ideal' box, this constant would be infinite, and the particles would never be able to leave the box. This would however be infeasible for calculating pressures excerted by the particles on the box, as our pressure-calculation only consider the particles that have left the box.\n",
    "  \n",
    "  \n",
    "  For finite box-contants, particles could remain outside the box and still produce a finite pressure, overfilling the box. This would effectively allow the particles to occupy a volume larger than that of the box, lowering the calculated pressure from what it 'ideally' should have been. "
   ]
  },
  {
   "cell_type": "markdown",
   "metadata": {},
   "source": [
    "## Task c)"
   ]
  },
  {
   "cell_type": "code",
   "execution_count": 10,
   "metadata": {},
   "outputs": [
    {
     "name": "stdout",
     "output_type": "stream",
     "text": [
      "\n",
      "T=2.90e+22K:----------"
     ]
    },
    {
     "name": "stderr",
     "output_type": "stream",
     "text": [
      "<ipython-input-10-a11488c02bd9>:31: UserWarning: Matplotlib is currently using module://ipykernel.pylab.backend_inline, which is a non-GUI backend, so cannot show the figure.\n",
      "  fig.show()\n"
     ]
    },
    {
     "data": {
      "image/png": "[encoded data removed]",
      "text/plain": [
       "<Figure size 432x288 with 1 Axes>"
      ]
     },
     "metadata": {
      "needs_background": "light"
     },
     "output_type": "display_data"
    }
   ],
   "source": [
    "#Temps = np.array([0.4, 0.55, 2.0])/k_b\n",
    "Temps = np.array([0.4])/k_b\n",
    "particle_amt = 100\n",
    "Ls = np.logspace(-0.1,0.9,10)\n",
    "\n",
    "stabilization_iters = 20000\n",
    "averaging_iters = 800000\n",
    "box_k = 1000\n",
    "\n",
    "fig, ax = plt.subplots(1,1)\n",
    "\n",
    "\n",
    "\n",
    "state_fcns = stateFunctions(box_k, energy_type=ENERGY.LJ_AND_BOX_ENERGY)\n",
    "for T in Temps:\n",
    "    sys = System(particle_amt, 1, state_fcns, T, logEnergy=False, jump_scale=0.05)\n",
    "    print(f\"\\nT={T:.2e}K\", end=\":\")\n",
    "    pressures = []\n",
    "    for L in Ls:\n",
    "        sys.reset(L=L)\n",
    "        sys.explore(stabilization_iters, log_interval=1000)\n",
    "        computed_pressures = sys.explore(averaging_iters, log_interval=5)[\"pressure\"]\n",
    "        avg_pressure = np.average(computed_pressures)\n",
    "        pressures.append(avg_pressure)\n",
    "        print(\"-\",end=\"\")\n",
    "    ax.plot(Ls, pressures, label=fr\"$k_bT$={k_b*T:.2e}\")\n",
    "ax.legend()\n",
    "ax.set_xlabel(\"L [m]\")\n",
    "ax.set_ylabel(\"p [pa]\")\n",
    "ax.set_yscale(\"log\")\n",
    "fig.show()"
   ]
  },
  {
   "cell_type": "markdown",
   "metadata": {},
   "source": [
    "Like the hardcore-potential case, the Lennard-Jones calculations yield a pressure-area graph where the pressure suddenly leaps for sufficiently small box-lengths. Both potentials encompass some sort of high potential for particles sufficiently near each other. It is this effect that causes this sudden jump in pressure for small volumes, which somewhat corresponds to the particles forming a solid phase (with a fixed lattice-distance).  \n",
    "  \n",
    "As the volume gets big enough, the pressure-graphs behave somewhat similarly to the ideal-gas-graphs, corresponding to the systems aquiring a gaseous phase.  \n",
    "  \n",
    "  \n",
    "Unlike the pressure-volume-graphs calculated before, this graph encompasses some 'almost flat' region. This corresponds to regions where the particles form a mixed-phase system, where small changes to volume only affect the proportionality of each phase, but not the overall pressure. This is most evident in the graph corresponding to the lowest temperature. The reason for the spiky-ness is likely that the simulations were not long enough. It has been experienced that 'crystal flakes' could form on the boundary of my box-simulations, flakes which generally are not stable, but my simulations were not long enough for them to migrate into the box. Thus, small differences in starting-position of the particles could make up significant pressure-differences in the calculations."
   ]
  },
  {
   "cell_type": "markdown",
   "metadata": {},
   "source": [
    "## Task d)"
   ]
  },
  {
   "cell_type": "code",
   "execution_count": 11,
   "metadata": {},
   "outputs": [
    {
     "name": "stdout",
     "output_type": "stream",
     "text": [
      "\n",
      "T=2.88e+22K:\n",
      "T=3.29e+22K:\n",
      "T=3.75e+22K:\n",
      "T=4.28e+22K:\n",
      "T=4.88e+22K:\n",
      "T=5.57e+22K:\n",
      "T=6.35e+22K:\n",
      "T=7.25e+22K:\n",
      "T=8.27e+22K:\n",
      "T=9.43e+22K:\n",
      "T=1.08e+23K:\n",
      "T=1.23e+23K:\n",
      "T=1.40e+23K:\n",
      "T=1.60e+23K:\n",
      "T=1.82e+23K:"
     ]
    },
    {
     "name": "stderr",
     "output_type": "stream",
     "text": [
      "<ipython-input-11-cfbf5258ef11>:28: UserWarning: Matplotlib is currently using module://ipykernel.pylab.backend_inline, which is a non-GUI backend, so cannot show the figure.\n",
      "  fig.show()\n"
     ]
    },
    {
     "data": {
      "image/png": "[encoded data removed]",
      "text/plain": [
       "<Figure size 432x288 with 1 Axes>"
      ]
     },
     "metadata": {
      "needs_background": "light"
     },
     "output_type": "display_data"
    }
   ],
   "source": [
    "Temps = np.array([0.4, 0.9, 2.4])/k_b\n",
    "particle_amt = 200\n",
    "L = 1.6\n",
    "\n",
    "stabilization_iters = 1000\n",
    "averaging_iters = 20000\n",
    "box_k = 300\n",
    "\n",
    "fig, ax = plt.subplots(1,1)\n",
    "\n",
    "\n",
    "\n",
    "state_fcns = stateFunctions(box_k, energy_type=ENERGY.LJ_AND_BOX_ENERGY)\n",
    "pressures = []\n",
    "Temps = np.logspace(-0.4,0.4,15)/k_b\n",
    "for T in Temps:\n",
    "    sys = System(particle_amt, 1, state_fcns, T, logEnergy=False, jump_scale=0.2)\n",
    "    print(f\"\\nT={T:.2e}K\", end=\":\")\n",
    "    sys.explore(stabilization_iters, log_interval=1000)\n",
    "    computed_pressures = sys.explore(averaging_iters, log_interval=10)[\"pressure\"]\n",
    "    avg_pressure = np.average(computed_pressures)\n",
    "    pressures.append(avg_pressure)\n",
    "ax.plot(Temps, pressures, label=fr\"$k_bT$={k_b*T:.2e}\")\n",
    "ax.legend()\n",
    "ax.set_xlabel(\"T [k]\")\n",
    "ax.set_ylabel(\"p [pa]\")\n",
    "ax.set_yscale(\"log\")\n",
    "fig.show()"
   ]
  }
 ],
 "metadata": {
  "kernelspec": {
   "display_name": "Python 3",
   "language": "python",
   "name": "python3"
  },
  "language_info": {
   "codemirror_mode": {
    "name": "ipython",
    "version": 3
   },
   "file_extension": ".py",
   "mimetype": "text/x-python",
   "name": "python",
   "nbconvert_exporter": "python",
   "pygments_lexer": "ipython3",
   "version": "3.8.3"
  }
 },
 "nbformat": 4,
 "nbformat_minor": 4
}
